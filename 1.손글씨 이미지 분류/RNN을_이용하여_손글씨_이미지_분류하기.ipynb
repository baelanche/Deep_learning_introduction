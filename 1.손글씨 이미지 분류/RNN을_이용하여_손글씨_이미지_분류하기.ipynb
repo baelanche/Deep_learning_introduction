{
  "nbformat": 4,
  "nbformat_minor": 0,
  "metadata": {
    "colab": {
      "name": "RNN을 이용하여 손글씨 이미지 분류하기.ipynb",
      "provenance": [],
      "collapsed_sections": [],
      "toc_visible": true,
      "authorship_tag": "ABX9TyOJFuZIzLBrCI3oTHxxrz8w",
      "include_colab_link": true
    },
    "kernelspec": {
      "name": "python3",
      "display_name": "Python 3"
    },
    "language_info": {
      "name": "python"
    },
    "accelerator": "GPU"
  },
  "cells": [
    {
      "cell_type": "markdown",
      "metadata": {
        "id": "view-in-github",
        "colab_type": "text"
      },
      "source": [
        "<a href=\"https://colab.research.google.com/github/baelanche/Deep_learning_introduction/blob/master/1.%EC%86%90%EA%B8%80%EC%94%A8%20%EC%9D%B4%EB%AF%B8%EC%A7%80%20%EB%B6%84%EB%A5%98/RNN%EC%9D%84_%EC%9D%B4%EC%9A%A9%ED%95%98%EC%97%AC_%EC%86%90%EA%B8%80%EC%94%A8_%EC%9D%B4%EB%AF%B8%EC%A7%80_%EB%B6%84%EB%A5%98%ED%95%98%EA%B8%B0.ipynb\" target=\"_parent\"><img src=\"https://colab.research.google.com/assets/colab-badge.svg\" alt=\"Open In Colab\"/></a>"
      ]
    },
    {
      "cell_type": "markdown",
      "metadata": {
        "id": "HvsZue1pArVC"
      },
      "source": [
        "# Preprocessing"
      ]
    },
    {
      "cell_type": "code",
      "metadata": {
        "id": "snnQl0Mm963r"
      },
      "source": [
        "import tensorflow as tf\n",
        "from tensorflow import keras\n",
        "from keras.layers import Dense\n",
        "from keras.models import Sequential\n",
        "\n",
        "import pandas as pd\n",
        "import numpy as np\n",
        "import matplotlib.pyplot as plt\n",
        "import seaborn as sns\n",
        "import warnings\n",
        "from IPython.display import Image\n",
        "\n",
        "warnings.filterwarnings('ignore')\n",
        "%matplotlib inline\n",
        "\n",
        "SEED = 34"
      ],
      "execution_count": 2,
      "outputs": []
    },
    {
      "cell_type": "markdown",
      "metadata": {
        "id": "y1wrb4QQ7XlF"
      },
      "source": [
        "## see mnist dataset"
      ]
    },
    {
      "cell_type": "code",
      "metadata": {
        "id": "l3bMHgo08tvs",
        "colab": {
          "base_uri": "https://localhost:8080/"
        },
        "outputId": "9fd25b47-26d7-4613-b065-203368aa6491"
      },
      "source": [
        "mnist = keras.datasets.mnist\n",
        "((train_images, train_labels) , (test_images, test_labels)) = mnist.load_data()"
      ],
      "execution_count": 3,
      "outputs": [
        {
          "output_type": "stream",
          "text": [
            "Downloading data from https://storage.googleapis.com/tensorflow/tf-keras-datasets/mnist.npz\n",
            "11493376/11490434 [==============================] - 0s 0us/step\n",
            "11501568/11490434 [==============================] - 0s 0us/step\n"
          ],
          "name": "stdout"
        }
      ]
    },
    {
      "cell_type": "code",
      "metadata": {
        "colab": {
          "base_uri": "https://localhost:8080/"
        },
        "id": "wfsexJMABux-",
        "outputId": "a67151f4-9a17-435a-81bf-ebfb8d36668a"
      },
      "source": [
        "train_images.shape, train_labels.shape, test_images.shape, test_labels.shape\n",
        "# Parameter (BHW)\n",
        "# 1 : 데이터의 크기\n",
        "# 2 : 이미지 height\n",
        "# 3 : 이미지 width"
      ],
      "execution_count": 4,
      "outputs": [
        {
          "output_type": "execute_result",
          "data": {
            "text/plain": [
              "((60000, 28, 28), (60000,), (10000, 28, 28), (10000,))"
            ]
          },
          "metadata": {},
          "execution_count": 4
        }
      ]
    },
    {
      "cell_type": "markdown",
      "metadata": {
        "id": "9ylelRnhDI6j"
      },
      "source": [
        "## plt를 이용한 이미지 출력"
      ]
    },
    {
      "cell_type": "code",
      "metadata": {
        "colab": {
          "base_uri": "https://localhost:8080/",
          "height": 282
        },
        "id": "0Ai29ANWDC-s",
        "outputId": "dfb4ed2e-6442-4fe4-c5a6-9cb2d0e56cec"
      },
      "source": [
        "plt.figure()\n",
        "plt.imshow(train_images[0])\n",
        "plt.colorbar() # 우측의 색상바\n",
        "plt.grid(True) # 격자\n",
        "plt.show()\n",
        "print(f\"answer : {train_labels[0]}\")"
      ],
      "execution_count": 5,
      "outputs": [
        {
          "output_type": "display_data",
          "data": {
            "image/png": "[encoded data removed]",
            "text/plain": [
              "<Figure size 432x288 with 2 Axes>"
            ]
          },
          "metadata": {
            "needs_background": "light"
          }
        },
        {
          "output_type": "stream",
          "text": [
            "answer : 5\n"
          ],
          "name": "stdout"
        }
      ]
    },
    {
      "cell_type": "markdown",
      "metadata": {
        "id": "M4_i2p4dD57x"
      },
      "source": [
        "## 0이 아닌 값 출력하기"
      ]
    },
    {
      "cell_type": "code",
      "metadata": {
        "colab": {
          "base_uri": "https://localhost:8080/"
        },
        "id": "fqCHPYnHD-DR",
        "outputId": "7e96678a-aef3-46b9-d494-3185929df921"
      },
      "source": [
        "# train_images[0].reshape(-1) 1차원으로 변경됨\n",
        "list(filter(lambda x: x != 0, train_images[0].reshape(-1)))[:10]"
      ],
      "execution_count": 6,
      "outputs": [
        {
          "output_type": "execute_result",
          "data": {
            "text/plain": [
              "[3, 18, 18, 18, 126, 136, 175, 26, 166, 255]"
            ]
          },
          "metadata": {},
          "execution_count": 6
        }
      ]
    },
    {
      "cell_type": "markdown",
      "metadata": {
        "id": "F3FNf7UEEnU5"
      },
      "source": [
        "## dtype 출력하기"
      ]
    },
    {
      "cell_type": "code",
      "metadata": {
        "colab": {
          "base_uri": "https://localhost:8080/"
        },
        "id": "OR4_JIcbEqey",
        "outputId": "fc6fb9f4-4f81-4f70-aa5d-16e299141670"
      },
      "source": [
        "print(train_images.dtype)\n",
        "print(train_labels.dtype)\n",
        "print(test_images.dtype)\n",
        "print(test_labels.dtype)\n",
        "# unsigned int 8bit"
      ],
      "execution_count": 7,
      "outputs": [
        {
          "output_type": "stream",
          "text": [
            "uint8\n",
            "uint8\n",
            "uint8\n",
            "uint8\n"
          ],
          "name": "stdout"
        }
      ]
    },
    {
      "cell_type": "markdown",
      "metadata": {
        "id": "1w9Gn-bu2c2q"
      },
      "source": [
        "## 데이터 범위 확인"
      ]
    },
    {
      "cell_type": "code",
      "metadata": {
        "colab": {
          "base_uri": "https://localhost:8080/"
        },
        "id": "NFIEnMG51QvO",
        "outputId": "4b34b0b7-d69f-4972-e717-9074f4d41971"
      },
      "source": [
        "print(list(filter(lambda x: x != 0, train_images[0].reshape(-1)))[:10])\n",
        "print(list(filter(lambda x: x != 0, train_labels.reshape(-1)))[:10])\n",
        "print(list(filter(lambda x: x != 0, test_images[0].reshape(-1)))[:10])\n",
        "print(list(filter(lambda x: x != 0, test_labels.reshape(-1)))[:10])"
      ],
      "execution_count": 8,
      "outputs": [
        {
          "output_type": "stream",
          "text": [
            "[3, 18, 18, 18, 126, 136, 175, 26, 166, 255]\n",
            "[5, 4, 1, 9, 2, 1, 3, 1, 4, 3]\n",
            "[84, 185, 159, 151, 60, 36, 222, 254, 254, 254]\n",
            "[7, 2, 1, 4, 1, 4, 9, 5, 9, 6]\n"
          ],
          "name": "stdout"
        }
      ]
    },
    {
      "cell_type": "markdown",
      "metadata": {
        "id": "PULaJitc2fhz"
      },
      "source": [
        "## train/test 이미지 데이터의 최소/최대값을 출력"
      ]
    },
    {
      "cell_type": "code",
      "metadata": {
        "colab": {
          "base_uri": "https://localhost:8080/"
        },
        "id": "sa3R6-wV2jKy",
        "outputId": "c0f34702-13f4-4eac-e55d-c2d9340cde99"
      },
      "source": [
        "min(train_images.reshape(-1)), max(train_images.reshape(-1)), min(test_images.reshape(-1)), max(test_images.reshape(-1))"
      ],
      "execution_count": 9,
      "outputs": [
        {
          "output_type": "execute_result",
          "data": {
            "text/plain": [
              "(0, 255, 0, 255)"
            ]
          },
          "metadata": {},
          "execution_count": 9
        }
      ]
    },
    {
      "cell_type": "markdown",
      "metadata": {
        "id": "ueAMi_qm3jaE"
      },
      "source": [
        "## 정수형을 실수형으로 변경"
      ]
    },
    {
      "cell_type": "code",
      "metadata": {
        "id": "ioBSyfKk3l16"
      },
      "source": [
        "train_images = train_images.astype(np.float64)\n",
        "test_images = test_images.astype(np.float64)"
      ],
      "execution_count": 10,
      "outputs": []
    },
    {
      "cell_type": "markdown",
      "metadata": {
        "id": "w4ZtcatO4NFI"
      },
      "source": [
        "## 데이터 0-1 노말라이즈 수행"
      ]
    },
    {
      "cell_type": "code",
      "metadata": {
        "id": "46hnI3dN4PuZ"
      },
      "source": [
        "# 현재 배열의 값 0-255 를 0-1 로 바꾸는 과정\n",
        "train_images = train_images / 255\n",
        "test_images = test_images / 255"
      ],
      "execution_count": 11,
      "outputs": []
    },
    {
      "cell_type": "markdown",
      "metadata": {
        "id": "JmcAF1uz4_tj"
      },
      "source": [
        "## 값 확인"
      ]
    },
    {
      "cell_type": "code",
      "metadata": {
        "colab": {
          "base_uri": "https://localhost:8080/"
        },
        "id": "mX3d-Vt65CUC",
        "outputId": "f6d9ee6c-0c24-424b-d569-f09ee1fa8381"
      },
      "source": [
        "print(list(filter(lambda x: x != 0, train_images[0].reshape(-1)))[:10])\n",
        "print(list(filter(lambda x: x != 0, test_images[0].reshape(-1)))[:10])"
      ],
      "execution_count": 12,
      "outputs": [
        {
          "output_type": "stream",
          "text": [
            "[0.011764705882352941, 0.07058823529411765, 0.07058823529411765, 0.07058823529411765, 0.49411764705882355, 0.5333333333333333, 0.6862745098039216, 0.10196078431372549, 0.6509803921568628, 1.0]\n",
            "[0.32941176470588235, 0.7254901960784313, 0.6235294117647059, 0.592156862745098, 0.23529411764705882, 0.1411764705882353, 0.8705882352941177, 0.996078431372549, 0.996078431372549, 0.996078431372549]\n"
          ],
          "name": "stdout"
        }
      ]
    },
    {
      "cell_type": "markdown",
      "metadata": {
        "id": "OtvjoZQQ5UJa"
      },
      "source": [
        "## 5장 shape\n"
      ]
    },
    {
      "cell_type": "code",
      "metadata": {
        "colab": {
          "base_uri": "https://localhost:8080/"
        },
        "id": "JrpJnQ1o5Uk5",
        "outputId": "1b050a9d-ce86-43b6-d956-2a1b3cf9dcf4"
      },
      "source": [
        "train_images[:5].shape"
      ],
      "execution_count": 13,
      "outputs": [
        {
          "output_type": "execute_result",
          "data": {
            "text/plain": [
              "(5, 28, 28)"
            ]
          },
          "metadata": {},
          "execution_count": 13
        }
      ]
    },
    {
      "cell_type": "markdown",
      "metadata": {
        "id": "qlZ5XjuGIsHL"
      },
      "source": [
        "## 5장을 분류하기"
      ]
    },
    {
      "cell_type": "code",
      "metadata": {
        "colab": {
          "base_uri": "https://localhost:8080/"
        },
        "id": "jnU99kyWIt-Y",
        "outputId": "bedf3801-3023-47f7-a221-2a5f052eac2e"
      },
      "source": [
        "np.hstack(train_images[:5]).shape\n",
        "# plt.imshow(np.hstack(train_images[:5]))\n",
        "# plt.show()"
      ],
      "execution_count": 14,
      "outputs": [
        {
          "output_type": "execute_result",
          "data": {
            "text/plain": [
              "(28, 140)"
            ]
          },
          "metadata": {},
          "execution_count": 14
        }
      ]
    },
    {
      "cell_type": "markdown",
      "metadata": {
        "id": "dAVyTV3tJpB9"
      },
      "source": [
        "## transpose로 shape 변경하기(GPU방식)\n",
        "\n"
      ]
    },
    {
      "cell_type": "code",
      "metadata": {
        "colab": {
          "base_uri": "https://localhost:8080/"
        },
        "id": "6jxYNTMEJtJ6",
        "outputId": "34f1e2d0-5bdc-43c4-f873-317a3ee953a4"
      },
      "source": [
        "train_images[:5].transpose((1, 0, 2)).reshape(28, -1).shape # 0:B 1:H 2:W"
      ],
      "execution_count": 15,
      "outputs": [
        {
          "output_type": "execute_result",
          "data": {
            "text/plain": [
              "(28, 140)"
            ]
          },
          "metadata": {},
          "execution_count": 15
        }
      ]
    },
    {
      "cell_type": "markdown",
      "metadata": {
        "id": "jxLPBsh0Keil"
      },
      "source": [
        "## plt로 출력하기"
      ]
    },
    {
      "cell_type": "code",
      "metadata": {
        "colab": {
          "base_uri": "https://localhost:8080/",
          "height": 118
        },
        "id": "bzac0JDSKgOj",
        "outputId": "96a37bcf-257d-4c80-cfba-ff80535a02cf"
      },
      "source": [
        "plt.imshow(train_images[:5].transpose((1,0,2)).reshape(28, -1))\n",
        "plt.show()"
      ],
      "execution_count": 16,
      "outputs": [
        {
          "output_type": "display_data",
          "data": {
            "image/png": "[encoded data removed]",
            "text/plain": [
              "<Figure size 432x288 with 1 Axes>"
            ]
          },
          "metadata": {
            "needs_background": "light"
          }
        }
      ]
    },
    {
      "cell_type": "markdown",
      "metadata": {
        "id": "xEA6l63LK7Li"
      },
      "source": [
        "## 흑백으로 출력하기"
      ]
    },
    {
      "cell_type": "code",
      "metadata": {
        "colab": {
          "base_uri": "https://localhost:8080/",
          "height": 275
        },
        "id": "LQWyaGChK8xd",
        "outputId": "220e060f-cb47-4428-8be2-d9db56fb2488"
      },
      "source": [
        "plt.imshow(train_images[:5].transpose((1,0,2)).reshape(28, -1), cmap='gray') # default : heatmap\n",
        "plt.colorbar()\n",
        "plt.show()\n",
        "print(train_labels[:5])"
      ],
      "execution_count": 17,
      "outputs": [
        {
          "output_type": "display_data",
          "data": {
            "image/png": "[encoded data removed]",
            "text/plain": [
              "<Figure size 432x288 with 2 Axes>"
            ]
          },
          "metadata": {
            "needs_background": "light"
          }
        },
        {
          "output_type": "stream",
          "text": [
            "[5 0 4 1 9]\n"
          ],
          "name": "stdout"
        }
      ]
    },
    {
      "cell_type": "markdown",
      "metadata": {
        "id": "u6ri_u8ljY0B"
      },
      "source": [
        "# Data augmentataion - Noise"
      ]
    },
    {
      "cell_type": "markdown",
      "metadata": {
        "id": "s7pOt5WBjdvS"
      },
      "source": [
        "## np.random.random 으로 난수 만들기"
      ]
    },
    {
      "cell_type": "markdown",
      "metadata": {
        "id": "BZmB9GAljv9l"
      },
      "source": [
        ""
      ]
    },
    {
      "cell_type": "code",
      "metadata": {
        "colab": {
          "base_uri": "https://localhost:8080/"
        },
        "id": "dw3oQGRQjhHY",
        "outputId": "5c6c54c7-fa61-47e9-cf29-5c15087926e7"
      },
      "source": [
        "np.random.random() # 0-1"
      ],
      "execution_count": 18,
      "outputs": [
        {
          "output_type": "execute_result",
          "data": {
            "text/plain": [
              "0.2909563954173474"
            ]
          },
          "metadata": {},
          "execution_count": 18
        }
      ]
    },
    {
      "cell_type": "markdown",
      "metadata": {
        "id": "Jj1gYcOSj2IC"
      },
      "source": [
        "## (28, 28)"
      ]
    },
    {
      "cell_type": "code",
      "metadata": {
        "colab": {
          "base_uri": "https://localhost:8080/"
        },
        "id": "cIyTqgr4j0MY",
        "outputId": "1254f4d9-6de9-4d38-d089-3e8015680a62"
      },
      "source": [
        "np.random.random((28, 28)).shape"
      ],
      "execution_count": 19,
      "outputs": [
        {
          "output_type": "execute_result",
          "data": {
            "text/plain": [
              "(28, 28)"
            ]
          },
          "metadata": {},
          "execution_count": 19
        }
      ]
    },
    {
      "cell_type": "markdown",
      "metadata": {
        "id": "dz1YmkldkCC4"
      },
      "source": [
        "## plt로 확인"
      ]
    },
    {
      "cell_type": "code",
      "metadata": {
        "colab": {
          "base_uri": "https://localhost:8080/",
          "height": 265
        },
        "id": "RK7dGTAWkDcc",
        "outputId": "46e32835-febb-4ee6-f502-d6a6df93b15b"
      },
      "source": [
        "plt.imshow(np.random.random((28, 28)))\n",
        "plt.colorbar()\n",
        "plt.show()"
      ],
      "execution_count": 20,
      "outputs": [
        {
          "output_type": "display_data",
          "data": {
            "image/png": "[encoded data removed]",
            "text/plain": [
              "<Figure size 432x288 with 2 Axes>"
            ]
          },
          "metadata": {
            "needs_background": "light"
          }
        }
      ]
    },
    {
      "cell_type": "markdown",
      "metadata": {
        "id": "BPq7eebvkNWg"
      },
      "source": [
        "## 평균 0, 표준편차 0.1, 사이즈 1"
      ]
    },
    {
      "cell_type": "code",
      "metadata": {
        "colab": {
          "base_uri": "https://localhost:8080/"
        },
        "id": "MBhbw-VckP8Q",
        "outputId": "4384d6bb-a724-4047-eb3e-ebd8998d70a9"
      },
      "source": [
        "np.random.normal(0.0, 0.1, 1)"
      ],
      "execution_count": 21,
      "outputs": [
        {
          "output_type": "execute_result",
          "data": {
            "text/plain": [
              "array([-0.06922374])"
            ]
          },
          "metadata": {},
          "execution_count": 21
        }
      ]
    },
    {
      "cell_type": "markdown",
      "metadata": {
        "id": "UXVXRnqllym4"
      },
      "source": [
        "## 평균 3.0, 표준편차 0.01, 사이즈 1"
      ]
    },
    {
      "cell_type": "code",
      "metadata": {
        "colab": {
          "base_uri": "https://localhost:8080/"
        },
        "id": "_AHV3C4Rl2_o",
        "outputId": "c8a6359c-2010-464f-9b9c-8982e995ebf7"
      },
      "source": [
        "np.random.normal(3.0, 0.01, 1)"
      ],
      "execution_count": 22,
      "outputs": [
        {
          "output_type": "execute_result",
          "data": {
            "text/plain": [
              "array([2.99310535])"
            ]
          },
          "metadata": {},
          "execution_count": 22
        }
      ]
    },
    {
      "cell_type": "markdown",
      "metadata": {
        "id": "Q-gPJUmql7pX"
      },
      "source": [
        "## 가우시안 노이즈함수로 (28, 28) 을 생성한 뒤 plt로 출력하기"
      ]
    },
    {
      "cell_type": "code",
      "metadata": {
        "colab": {
          "base_uri": "https://localhost:8080/",
          "height": 265
        },
        "id": "UFs0aXrgmFK_",
        "outputId": "a4d28a0e-37d5-4651-d946-c0a0114c3335"
      },
      "source": [
        "plt.imshow(np.random.normal(0.0, 0.01, (28, 28)), cmap='gray')\n",
        "plt.colorbar()\n",
        "plt.show()"
      ],
      "execution_count": 23,
      "outputs": [
        {
          "output_type": "display_data",
          "data": {
            "image/png": "[encoded data removed]",
            "text/plain": [
              "<Figure size 432x288 with 2 Axes>"
            ]
          },
          "metadata": {
            "needs_background": "light"
          }
        }
      ]
    },
    {
      "cell_type": "markdown",
      "metadata": {
        "id": "QEPPlcicmVIY"
      },
      "source": [
        "## 가우시안 노이즈(28, 28)을 생성하고 각각 tensor를 더한 뒤 변수에 할당하기"
      ]
    },
    {
      "cell_type": "code",
      "metadata": {
        "colab": {
          "base_uri": "https://localhost:8080/",
          "height": 265
        },
        "id": "rxdL4mWNmd5J",
        "outputId": "ce3f179c-67a9-4855-d971-8920b954a585"
      },
      "source": [
        "noisy_image = train_images[5] + np.random.normal(0.5, 0.1, (28, 28))\n",
        "plt.imshow(noisy_image, cmap='gray')\n",
        "plt.colorbar()\n",
        "plt.show()"
      ],
      "execution_count": 24,
      "outputs": [
        {
          "output_type": "display_data",
          "data": {
            "image/png": "[encoded data removed]",
            "text/plain": [
              "<Figure size 432x288 with 2 Axes>"
            ]
          },
          "metadata": {
            "needs_background": "light"
          }
        }
      ]
    },
    {
      "cell_type": "markdown",
      "metadata": {
        "id": "Mi64VGJEnetv"
      },
      "source": [
        "## noisy 이미지 최대값 설정하기"
      ]
    },
    {
      "cell_type": "code",
      "metadata": {
        "colab": {
          "base_uri": "https://localhost:8080/",
          "height": 269
        },
        "id": "1RORIyKwnhCo",
        "outputId": "01c7c713-b845-41cc-b8a3-329a4a345e59"
      },
      "source": [
        "noisy_image[noisy_image > 1.0] = 1.0\n",
        "# noisy_image\n",
        "plt.imshow(noisy_image)\n",
        "plt.colorbar()\n",
        "plt.show()"
      ],
      "execution_count": 25,
      "outputs": [
        {
          "output_type": "display_data",
          "data": {
            "image/png": "[encoded data removed]",
            "text/plain": [
              "<Figure size 432x288 with 2 Axes>"
            ]
          },
          "metadata": {
            "needs_background": "light"
          }
        }
      ]
    },
    {
      "cell_type": "markdown",
      "metadata": {
        "id": "t9caOHkRn22Q"
      },
      "source": [
        "## train_noisy_images, test_noisy_images 만들기"
      ]
    },
    {
      "cell_type": "code",
      "metadata": {
        "id": "GAxop5yOn9fy"
      },
      "source": [
        "train_noisy_images = train_images + np.random.normal(0.5, 0.1, train_images.shape)\n",
        "train_noisy_images[train_noisy_images > 1.0] = 1.0\n",
        "\n",
        "test_noisy_images = test_images + np.random.normal(0.5, 0.1, test_images.shape)\n",
        "test_noisy_images[test_noisy_images > 1.0] = 1.0"
      ],
      "execution_count": 26,
      "outputs": []
    },
    {
      "cell_type": "markdown",
      "metadata": {
        "id": "pHSNMQtppWC-"
      },
      "source": [
        "## lables에 onehot 인코딩을 적용하여 (배치 사이즈, 클래스 개수)의 shape으로 변경"
      ]
    },
    {
      "cell_type": "code",
      "metadata": {
        "colab": {
          "base_uri": "https://localhost:8080/"
        },
        "id": "jlyZwksbpc1-",
        "outputId": "ff1cb762-2092-4e86-bc26-eca9bbb0bac6"
      },
      "source": [
        "from tensorflow.keras.utils import to_categorical\n",
        "train_labels = to_categorical(train_labels, 10)\n",
        "test_labels = to_categorical(test_labels, 10)\n",
        "print(train_labels.shape, test_labels.shape)"
      ],
      "execution_count": 27,
      "outputs": [
        {
          "output_type": "stream",
          "text": [
            "(60000, 10) (10000, 10)\n"
          ],
          "name": "stdout"
        }
      ]
    },
    {
      "cell_type": "markdown",
      "metadata": {
        "id": "jysJTPBo_bKg"
      },
      "source": [
        "# 모델링"
      ]
    },
    {
      "cell_type": "markdown",
      "metadata": {
        "id": "ct5sPOqK_cWG"
      },
      "source": [
        "## classification 모델"
      ]
    },
    {
      "cell_type": "code",
      "metadata": {
        "id": "2FJF3B22_gnO"
      },
      "source": [
        "from tensorflow.keras.layers import SimpleRNN\n",
        "from tensorflow.keras.layers import Dense, Input\n",
        "from tensorflow.keras.models import Model\n",
        "\n",
        "inputs = Input(shape=(28, 28))\n",
        "x1 = SimpleRNN(64, activation='tanh')(inputs)\n",
        "x2 = Dense(10, activation='softmax')(x1)\n",
        "model = Model(inputs, x2)"
      ],
      "execution_count": 32,
      "outputs": []
    },
    {
      "cell_type": "markdown",
      "metadata": {
        "id": "C2zw0NODBYpV"
      },
      "source": [
        "## 모델 요약 정보"
      ]
    },
    {
      "cell_type": "code",
      "metadata": {
        "colab": {
          "base_uri": "https://localhost:8080/"
        },
        "id": "-FGVOY95BZzz",
        "outputId": "75ee156c-d490-41a9-fd47-934c93477160"
      },
      "source": [
        "model.summary()"
      ],
      "execution_count": 34,
      "outputs": [
        {
          "output_type": "stream",
          "text": [
            "Model: \"model_1\"\n",
            "_________________________________________________________________\n",
            "Layer (type)                 Output Shape              Param #   \n",
            "=================================================================\n",
            "input_4 (InputLayer)         [(None, 28, 28)]          0         \n",
            "_________________________________________________________________\n",
            "simple_rnn_2 (SimpleRNN)     (None, 64)                5952      \n",
            "_________________________________________________________________\n",
            "dense_1 (Dense)              (None, 10)                650       \n",
            "=================================================================\n",
            "Total params: 6,602\n",
            "Trainable params: 6,602\n",
            "Non-trainable params: 0\n",
            "_________________________________________________________________\n"
          ],
          "name": "stdout"
        }
      ]
    },
    {
      "cell_type": "markdown",
      "metadata": {
        "id": "loN4PNWZByHf"
      },
      "source": [
        "## 로스, 옵티마이저, 매트릭"
      ]
    },
    {
      "cell_type": "code",
      "metadata": {
        "id": "6wZTRbnOB1JA"
      },
      "source": [
        "model.compile(loss='categorical_crossentropy', optimizer='adam', metrics=['accuracy'])"
      ],
      "execution_count": 36,
      "outputs": []
    },
    {
      "cell_type": "markdown",
      "metadata": {
        "id": "WKz3wVlOHUJu"
      },
      "source": [
        "## 만든 모델 학습시키기"
      ]
    },
    {
      "cell_type": "code",
      "metadata": {
        "colab": {
          "base_uri": "https://localhost:8080/"
        },
        "id": "av5vt23vHXyS",
        "outputId": "1c532b14-9a39-42e6-af17-e455c4822a3c"
      },
      "source": [
        "hist = model.fit(train_noisy_images, train_labels, validation_data=(test_noisy_images, test_labels), epochs=5, verbose=2)"
      ],
      "execution_count": 39,
      "outputs": [
        {
          "output_type": "stream",
          "text": [
            "Epoch 1/5\n",
            "1875/1875 - 21s - loss: 0.2860 - accuracy: 0.9156 - val_loss: 0.2580 - val_accuracy: 0.9220\n",
            "Epoch 2/5\n",
            "1875/1875 - 21s - loss: 0.2654 - accuracy: 0.9205 - val_loss: 0.3050 - val_accuracy: 0.9034\n",
            "Epoch 3/5\n",
            "1875/1875 - 22s - loss: 0.2416 - accuracy: 0.9297 - val_loss: 0.2083 - val_accuracy: 0.9395\n",
            "Epoch 4/5\n",
            "1875/1875 - 21s - loss: 0.2301 - accuracy: 0.9330 - val_loss: 0.2025 - val_accuracy: 0.9435\n",
            "Epoch 5/5\n",
            "1875/1875 - 21s - loss: 0.2199 - accuracy: 0.9360 - val_loss: 0.1985 - val_accuracy: 0.9434\n"
          ],
          "name": "stdout"
        }
      ]
    },
    {
      "cell_type": "markdown",
      "metadata": {
        "id": "8V8OOHSNIARD"
      },
      "source": [
        "## 학습 진행 사항 출력하기"
      ]
    },
    {
      "cell_type": "code",
      "metadata": {
        "colab": {
          "base_uri": "https://localhost:8080/",
          "height": 265
        },
        "id": "tgJNSQJaICwY",
        "outputId": "a0356b60-cffd-4993-f776-481316acd81f"
      },
      "source": [
        "plt.plot(hist.history['accuracy'], label='accuracy')\n",
        "plt.plot(hist.history['loss'], label='loss')\n",
        "plt.plot(hist.history['val_accuracy'], label='val_accuracy')\n",
        "plt.plot(hist.history['val_loss'], label='val_loss')\n",
        "plt.legend(loc='upper left')\n",
        "plt.show()"
      ],
      "execution_count": 40,
      "outputs": [
        {
          "output_type": "display_data",
          "data": {
            "image/png": "[encoded data removed]",
            "text/plain": [
              "<Figure size 432x288 with 1 Axes>"
            ]
          },
          "metadata": {
            "needs_background": "light"
          }
        }
      ]
    }
  ]
}