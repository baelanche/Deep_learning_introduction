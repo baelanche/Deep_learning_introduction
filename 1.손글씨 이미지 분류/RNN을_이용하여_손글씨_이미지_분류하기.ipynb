{
  "nbformat": 4,
  "nbformat_minor": 0,
  "metadata": {
    "colab": {
      "name": "RNN을 이용하여 손글씨 이미지 분류하기.ipynb",
      "provenance": [],
      "collapsed_sections": [],
      "authorship_tag": "ABX9TyNhMO8yG22FPkzQf1U3n4zD",
      "include_colab_link": true
    },
    "kernelspec": {
      "name": "python3",
      "display_name": "Python 3"
    },
    "language_info": {
      "name": "python"
    },
    "accelerator": "GPU"
  },
  "cells": [
    {
      "cell_type": "markdown",
      "metadata": {
        "id": "view-in-github",
        "colab_type": "text"
      },
      "source": [
        "<a href=\"https://colab.research.google.com/github/baelanche/Deep_learning_introduction/blob/master/1.%EC%86%90%EA%B8%80%EC%94%A8%20%EC%9D%B4%EB%AF%B8%EC%A7%80%20%EB%B6%84%EB%A5%98/RNN%EC%9D%84_%EC%9D%B4%EC%9A%A9%ED%95%98%EC%97%AC_%EC%86%90%EA%B8%80%EC%94%A8_%EC%9D%B4%EB%AF%B8%EC%A7%80_%EB%B6%84%EB%A5%98%ED%95%98%EA%B8%B0.ipynb\" target=\"_parent\"><img src=\"https://colab.research.google.com/assets/colab-badge.svg\" alt=\"Open In Colab\"/></a>"
      ]
    },
    {
      "cell_type": "markdown",
      "metadata": {
        "id": "87NLNAU095Or"
      },
      "source": [
        "# RNN을 이용하여 손글씨 이미지 분류하기"
      ]
    },
    {
      "cell_type": "markdown",
      "metadata": {
        "id": "HvsZue1pArVC"
      },
      "source": [
        "## Preprocessing"
      ]
    },
    {
      "cell_type": "code",
      "metadata": {
        "id": "snnQl0Mm963r"
      },
      "source": [
        "import tensorflow as tf\n",
        "from tensorflow import keras\n",
        "from keras.layers import Dense\n",
        "from keras.models import Sequential\n",
        "\n",
        "import pandas as pd\n",
        "import numpy as np\n",
        "import matplotlib.pyplot as plt\n",
        "import seaborn as sns\n",
        "import warnings\n",
        "from IPython.display import Image\n",
        "\n",
        "warnings.filterwarnings('ignore')\n",
        "%matplotlib inline\n",
        "\n",
        "SEED = 34"
      ],
      "execution_count": 3,
      "outputs": []
    },
    {
      "cell_type": "markdown",
      "metadata": {
        "id": "y1wrb4QQ7XlF"
      },
      "source": [
        "## see mnist dataset"
      ]
    },
    {
      "cell_type": "code",
      "metadata": {
        "id": "l3bMHgo08tvs"
      },
      "source": [
        "mnist = keras.datasets.mnist\n",
        "((train_images, train_labels) , (test_images, test_labels)) = mnist.load_data()"
      ],
      "execution_count": 50,
      "outputs": []
    },
    {
      "cell_type": "code",
      "metadata": {
        "colab": {
          "base_uri": "https://localhost:8080/"
        },
        "id": "wfsexJMABux-",
        "outputId": "388940b1-d511-4074-e49f-36dd06362daf"
      },
      "source": [
        "train_images.shape, train_labels.shape, test_images.shape, test_labels.shape\n",
        "# Parameter (BHW)\n",
        "# 1 : 데이터의 크기\n",
        "# 2 : 이미지 height\n",
        "# 3 : 이미지 width"
      ],
      "execution_count": 5,
      "outputs": [
        {
          "output_type": "execute_result",
          "data": {
            "text/plain": [
              "((60000, 28, 28), (60000,), (10000, 28, 28), (10000,))"
            ]
          },
          "metadata": {},
          "execution_count": 5
        }
      ]
    },
    {
      "cell_type": "markdown",
      "metadata": {
        "id": "9ylelRnhDI6j"
      },
      "source": [
        "## plt를 이용한 이미지 출력"
      ]
    },
    {
      "cell_type": "code",
      "metadata": {
        "colab": {
          "base_uri": "https://localhost:8080/",
          "height": 282
        },
        "id": "0Ai29ANWDC-s",
        "outputId": "0893ca13-f00f-46bd-838f-d92ca1b512d0"
      },
      "source": [
        "plt.figure()\n",
        "plt.imshow(train_images[0])\n",
        "plt.colorbar() # 우측의 색상바\n",
        "plt.grid(True) # 격자\n",
        "plt.show()\n",
        "print(f\"answer : {train_labels[0]}\")"
      ],
      "execution_count": 6,
      "outputs": [
        {
          "output_type": "display_data",
          "data": {
            "image/png": "[encoded data removed]",
            "text/plain": [
              "<Figure size 432x288 with 2 Axes>"
            ]
          },
          "metadata": {
            "needs_background": "light"
          }
        },
        {
          "output_type": "stream",
          "text": [
            "answer : 5\n"
          ],
          "name": "stdout"
        }
      ]
    },
    {
      "cell_type": "markdown",
      "metadata": {
        "id": "M4_i2p4dD57x"
      },
      "source": [
        "## 0이 아닌 값 출력하기"
      ]
    },
    {
      "cell_type": "code",
      "metadata": {
        "colab": {
          "base_uri": "https://localhost:8080/"
        },
        "id": "fqCHPYnHD-DR",
        "outputId": "f4288075-e3f0-4cf1-f7e8-e0bd1192dd62"
      },
      "source": [
        "# train_images[0].reshape(-1) 1차원으로 변경됨\n",
        "list(filter(lambda x: x != 0, train_images[0].reshape(-1)))[:10]"
      ],
      "execution_count": 7,
      "outputs": [
        {
          "output_type": "execute_result",
          "data": {
            "text/plain": [
              "[3, 18, 18, 18, 126, 136, 175, 26, 166, 255]"
            ]
          },
          "metadata": {},
          "execution_count": 7
        }
      ]
    },
    {
      "cell_type": "markdown",
      "metadata": {
        "id": "F3FNf7UEEnU5"
      },
      "source": [
        "## dtype 출력하기"
      ]
    },
    {
      "cell_type": "code",
      "metadata": {
        "colab": {
          "base_uri": "https://localhost:8080/"
        },
        "id": "OR4_JIcbEqey",
        "outputId": "63902ebc-48e1-4634-a1f8-b80f317e5b47"
      },
      "source": [
        "print(train_images.dtype)\n",
        "print(train_labels.dtype)\n",
        "print(test_images.dtype)\n",
        "print(test_labels.dtype)\n",
        "# unsigned int 8bit"
      ],
      "execution_count": 8,
      "outputs": [
        {
          "output_type": "stream",
          "text": [
            "uint8\n",
            "uint8\n",
            "uint8\n",
            "uint8\n"
          ],
          "name": "stdout"
        }
      ]
    },
    {
      "cell_type": "markdown",
      "metadata": {
        "id": "1w9Gn-bu2c2q"
      },
      "source": [
        "## 데이터 범위 확인"
      ]
    },
    {
      "cell_type": "code",
      "metadata": {
        "colab": {
          "base_uri": "https://localhost:8080/"
        },
        "id": "NFIEnMG51QvO",
        "outputId": "c5e21b54-3e26-4a6f-d00a-b3f2e8106dcd"
      },
      "source": [
        "print(list(filter(lambda x: x != 0, train_images[0].reshape(-1)))[:10])\n",
        "print(list(filter(lambda x: x != 0, train_labels.reshape(-1)))[:10])\n",
        "print(list(filter(lambda x: x != 0, test_images[0].reshape(-1)))[:10])\n",
        "print(list(filter(lambda x: x != 0, test_labels.reshape(-1)))[:10])"
      ],
      "execution_count": 9,
      "outputs": [
        {
          "output_type": "stream",
          "text": [
            "[3, 18, 18, 18, 126, 136, 175, 26, 166, 255]\n",
            "[5, 4, 1, 9, 2, 1, 3, 1, 4, 3]\n",
            "[84, 185, 159, 151, 60, 36, 222, 254, 254, 254]\n",
            "[7, 2, 1, 4, 1, 4, 9, 5, 9, 6]\n"
          ],
          "name": "stdout"
        }
      ]
    },
    {
      "cell_type": "markdown",
      "metadata": {
        "id": "PULaJitc2fhz"
      },
      "source": [
        "## train/test 이미지 데이터의 최소/최대값을 출력"
      ]
    },
    {
      "cell_type": "code",
      "metadata": {
        "colab": {
          "base_uri": "https://localhost:8080/"
        },
        "id": "sa3R6-wV2jKy",
        "outputId": "acdf280e-2dcc-44fd-8852-2db3b39e3c4c"
      },
      "source": [
        "min(train_images.reshape(-1)), max(train_images.reshape(-1)), min(test_images.reshape(-1)), max(test_images.reshape(-1))"
      ],
      "execution_count": 10,
      "outputs": [
        {
          "output_type": "execute_result",
          "data": {
            "text/plain": [
              "(0, 255, 0, 255)"
            ]
          },
          "metadata": {},
          "execution_count": 10
        }
      ]
    },
    {
      "cell_type": "markdown",
      "metadata": {
        "id": "ueAMi_qm3jaE"
      },
      "source": [
        "## 정수형을 실수형으로 변경"
      ]
    },
    {
      "cell_type": "code",
      "metadata": {
        "id": "ioBSyfKk3l16"
      },
      "source": [
        "train_images = train_images.astype(np.float64)\n",
        "test_images = test_images.astype(np.float64)"
      ],
      "execution_count": 51,
      "outputs": []
    },
    {
      "cell_type": "markdown",
      "metadata": {
        "id": "w4ZtcatO4NFI"
      },
      "source": [
        "## 데이터 0-1 노말라이즈 수행"
      ]
    },
    {
      "cell_type": "code",
      "metadata": {
        "id": "46hnI3dN4PuZ"
      },
      "source": [
        "# 현재 배열의 값 0-255 를 0-1 로 바꾸는 과정\n",
        "train_images = train_images / 255\n",
        "test_images = test_images / 255"
      ],
      "execution_count": 7,
      "outputs": []
    },
    {
      "cell_type": "markdown",
      "metadata": {
        "id": "JmcAF1uz4_tj"
      },
      "source": [
        "## 값 확인"
      ]
    },
    {
      "cell_type": "code",
      "metadata": {
        "colab": {
          "base_uri": "https://localhost:8080/"
        },
        "id": "mX3d-Vt65CUC",
        "outputId": "de17b8d4-efbb-4ec9-947f-aa0f1c633005"
      },
      "source": [
        "print(list(filter(lambda x: x != 0, train_images[0].reshape(-1)))[:10])\n",
        "print(list(filter(lambda x: x != 0, test_images[0].reshape(-1)))[:10])"
      ],
      "execution_count": 13,
      "outputs": [
        {
          "output_type": "stream",
          "text": [
            "[0.011764705882352941, 0.07058823529411765, 0.07058823529411765, 0.07058823529411765, 0.49411764705882355, 0.5333333333333333, 0.6862745098039216, 0.10196078431372549, 0.6509803921568628, 1.0]\n",
            "[0.32941176470588235, 0.7254901960784313, 0.6235294117647059, 0.592156862745098, 0.23529411764705882, 0.1411764705882353, 0.8705882352941177, 0.996078431372549, 0.996078431372549, 0.996078431372549]\n"
          ],
          "name": "stdout"
        }
      ]
    },
    {
      "cell_type": "markdown",
      "metadata": {
        "id": "OtvjoZQQ5UJa"
      },
      "source": [
        "## 5장 shape\n"
      ]
    },
    {
      "cell_type": "code",
      "metadata": {
        "colab": {
          "base_uri": "https://localhost:8080/"
        },
        "id": "JrpJnQ1o5Uk5",
        "outputId": "0ece349f-d7a4-4b5e-ff0e-b22e957c03bc"
      },
      "source": [
        "train_images[:5].shape"
      ],
      "execution_count": 15,
      "outputs": [
        {
          "output_type": "execute_result",
          "data": {
            "text/plain": [
              "(5, 28, 28)"
            ]
          },
          "metadata": {},
          "execution_count": 15
        }
      ]
    },
    {
      "cell_type": "markdown",
      "metadata": {
        "id": "qlZ5XjuGIsHL"
      },
      "source": [
        "## 5장을 분류하기"
      ]
    },
    {
      "cell_type": "code",
      "metadata": {
        "colab": {
          "base_uri": "https://localhost:8080/"
        },
        "id": "jnU99kyWIt-Y",
        "outputId": "0f4a11be-37b0-4668-cb3b-91be7f5ec466"
      },
      "source": [
        "np.hstack(train_images[:5]).shape\n",
        "# plt.imshow(np.hstack(train_images[:5]))\n",
        "# plt.show()"
      ],
      "execution_count": 25,
      "outputs": [
        {
          "output_type": "execute_result",
          "data": {
            "text/plain": [
              "(28, 140)"
            ]
          },
          "metadata": {},
          "execution_count": 25
        }
      ]
    },
    {
      "cell_type": "markdown",
      "metadata": {
        "id": "dAVyTV3tJpB9"
      },
      "source": [
        "## transpose로 shape 변경하기(GPU방식)\n",
        "\n"
      ]
    },
    {
      "cell_type": "code",
      "metadata": {
        "colab": {
          "base_uri": "https://localhost:8080/"
        },
        "id": "6jxYNTMEJtJ6",
        "outputId": "ca1fc5ed-18af-4ea3-c433-309f33d091a1"
      },
      "source": [
        "train_images[:5].transpose((1, 0, 2)).reshape(28, -1).shape # 0:B 1:H 2:W"
      ],
      "execution_count": 29,
      "outputs": [
        {
          "output_type": "execute_result",
          "data": {
            "text/plain": [
              "(28, 140)"
            ]
          },
          "metadata": {},
          "execution_count": 29
        }
      ]
    },
    {
      "cell_type": "markdown",
      "metadata": {
        "id": "jxLPBsh0Keil"
      },
      "source": [
        "## plt로 출력하기"
      ]
    },
    {
      "cell_type": "code",
      "metadata": {
        "colab": {
          "base_uri": "https://localhost:8080/",
          "height": 118
        },
        "id": "bzac0JDSKgOj",
        "outputId": "76cef559-78fd-410e-aeaa-30d389454c02"
      },
      "source": [
        "plt.imshow(train_images[:5].transpose((1,0,2)).reshape(28, -1))\n",
        "plt.show()"
      ],
      "execution_count": 30,
      "outputs": [
        {
          "output_type": "display_data",
          "data": {
            "image/png": "[encoded data removed]",
            "text/plain": [
              "<Figure size 432x288 with 1 Axes>"
            ]
          },
          "metadata": {
            "needs_background": "light"
          }
        }
      ]
    },
    {
      "cell_type": "markdown",
      "metadata": {
        "id": "xEA6l63LK7Li"
      },
      "source": [
        "## 흑백으로 출력하기"
      ]
    },
    {
      "cell_type": "code",
      "metadata": {
        "colab": {
          "base_uri": "https://localhost:8080/",
          "height": 275
        },
        "id": "LQWyaGChK8xd",
        "outputId": "c45856d2-cbf6-498d-908e-a5fc7d854dff"
      },
      "source": [
        "plt.imshow(train_images[:5].transpose((1,0,2)).reshape(28, -1), cmap='gray') # default : heatmap\n",
        "plt.colorbar()\n",
        "plt.show()\n",
        "print(train_labels[:5])"
      ],
      "execution_count": 33,
      "outputs": [
        {
          "output_type": "display_data",
          "data": {
            "image/png": "[encoded data removed]",
            "text/plain": [
              "<Figure size 432x288 with 2 Axes>"
            ]
          },
          "metadata": {
            "needs_background": "light"
          }
        },
        {
          "output_type": "stream",
          "text": [
            "[5 0 4 1 9]\n"
          ],
          "name": "stdout"
        }
      ]
    },
    {
      "cell_type": "markdown",
      "metadata": {
        "id": "u6ri_u8ljY0B"
      },
      "source": [
        "# Data augmentataion - Noise"
      ]
    },
    {
      "cell_type": "markdown",
      "metadata": {
        "id": "s7pOt5WBjdvS"
      },
      "source": [
        "## np.random.random 으로 난수 만들기"
      ]
    },
    {
      "cell_type": "markdown",
      "metadata": {
        "id": "BZmB9GAljv9l"
      },
      "source": [
        ""
      ]
    },
    {
      "cell_type": "code",
      "metadata": {
        "id": "dw3oQGRQjhHY",
        "outputId": "f1813648-d04c-424c-9bbc-7016c759c82e",
        "colab": {
          "base_uri": "https://localhost:8080/"
        }
      },
      "source": [
        "np.random.random() # 0-1"
      ],
      "execution_count": 8,
      "outputs": [
        {
          "output_type": "execute_result",
          "data": {
            "text/plain": [
              "0.5820211206148056"
            ]
          },
          "metadata": {},
          "execution_count": 8
        }
      ]
    },
    {
      "cell_type": "markdown",
      "metadata": {
        "id": "Jj1gYcOSj2IC"
      },
      "source": [
        "## (28, 28)"
      ]
    },
    {
      "cell_type": "code",
      "metadata": {
        "id": "cIyTqgr4j0MY",
        "outputId": "ab7f1f5a-5ba0-40a4-a788-9539f72a2530",
        "colab": {
          "base_uri": "https://localhost:8080/"
        }
      },
      "source": [
        "np.random.random((28, 28)).shape"
      ],
      "execution_count": 12,
      "outputs": [
        {
          "output_type": "execute_result",
          "data": {
            "text/plain": [
              "(28, 28)"
            ]
          },
          "metadata": {},
          "execution_count": 12
        }
      ]
    },
    {
      "cell_type": "markdown",
      "metadata": {
        "id": "dz1YmkldkCC4"
      },
      "source": [
        "## plt로 확인"
      ]
    },
    {
      "cell_type": "code",
      "metadata": {
        "id": "RK7dGTAWkDcc",
        "outputId": "068ef6db-d599-4420-db15-303e56d60b0d",
        "colab": {
          "base_uri": "https://localhost:8080/",
          "height": 265
        }
      },
      "source": [
        "plt.imshow(np.random.random((28, 28)))\n",
        "plt.colorbar()\n",
        "plt.show()"
      ],
      "execution_count": 14,
      "outputs": [
        {
          "output_type": "display_data",
          "data": {
            "image/png": "[encoded data removed]",
            "text/plain": [
              "<Figure size 432x288 with 2 Axes>"
            ]
          },
          "metadata": {
            "needs_background": "light"
          }
        }
      ]
    },
    {
      "cell_type": "markdown",
      "metadata": {
        "id": "BPq7eebvkNWg"
      },
      "source": [
        "## 평균 0, 표준편차 0.1, 사이즈 1"
      ]
    },
    {
      "cell_type": "code",
      "metadata": {
        "id": "MBhbw-VckP8Q",
        "outputId": "09458939-215f-45e9-f8a1-d85b4c22dc7a",
        "colab": {
          "base_uri": "https://localhost:8080/"
        }
      },
      "source": [
        "np.random.normal(0.0, 0.1, 1)"
      ],
      "execution_count": 16,
      "outputs": [
        {
          "output_type": "execute_result",
          "data": {
            "text/plain": [
              "array([0.02519057])"
            ]
          },
          "metadata": {},
          "execution_count": 16
        }
      ]
    },
    {
      "cell_type": "markdown",
      "metadata": {
        "id": "UXVXRnqllym4"
      },
      "source": [
        "## 평균 3.0, 표준편차 0.01, 사이즈 1"
      ]
    },
    {
      "cell_type": "code",
      "metadata": {
        "id": "_AHV3C4Rl2_o",
        "outputId": "2b6721eb-1afc-464d-e726-d27cfeb340db",
        "colab": {
          "base_uri": "https://localhost:8080/"
        }
      },
      "source": [
        "np.random.normal(3.0, 0.01, 1)"
      ],
      "execution_count": 17,
      "outputs": [
        {
          "output_type": "execute_result",
          "data": {
            "text/plain": [
              "array([2.99858817])"
            ]
          },
          "metadata": {},
          "execution_count": 17
        }
      ]
    },
    {
      "cell_type": "markdown",
      "metadata": {
        "id": "Q-gPJUmql7pX"
      },
      "source": [
        "## 가우시안 노이즈함수로 (28, 28) 을 생성한 뒤 plt로 출력하기"
      ]
    },
    {
      "cell_type": "code",
      "metadata": {
        "id": "UFs0aXrgmFK_",
        "outputId": "72db5fb1-402f-4a0c-e54f-fd7128470d66",
        "colab": {
          "base_uri": "https://localhost:8080/",
          "height": 267
        }
      },
      "source": [
        "plt.imshow(np.random.normal(0.0, 0.01, (28, 28)), cmap='gray')\n",
        "plt.colorbar()\n",
        "plt.show()"
      ],
      "execution_count": 21,
      "outputs": [
        {
          "output_type": "display_data",
          "data": {
            "image/png": "[encoded data removed]",
            "text/plain": [
              "<Figure size 432x288 with 2 Axes>"
            ]
          },
          "metadata": {
            "needs_background": "light"
          }
        }
      ]
    },
    {
      "cell_type": "markdown",
      "metadata": {
        "id": "QEPPlcicmVIY"
      },
      "source": [
        "## 가우시안 노이즈(28, 28)을 생성하고 각각 tensor를 더한 뒤 변수에 할당하기"
      ]
    },
    {
      "cell_type": "code",
      "metadata": {
        "id": "rxdL4mWNmd5J",
        "outputId": "4471d3df-201c-464e-ccb3-5c7c413ac891",
        "colab": {
          "base_uri": "https://localhost:8080/",
          "height": 265
        }
      },
      "source": [
        "noisy_image = train_images[5] + np.random.normal(0.5, 0.1, (28, 28))\n",
        "plt.imshow(noisy_image, cmap='gray')\n",
        "plt.colorbar()\n",
        "plt.show()"
      ],
      "execution_count": 32,
      "outputs": [
        {
          "output_type": "display_data",
          "data": {
            "image/png": "[encoded data removed]",
            "text/plain": [
              "<Figure size 432x288 with 2 Axes>"
            ]
          },
          "metadata": {
            "needs_background": "light"
          }
        }
      ]
    },
    {
      "cell_type": "markdown",
      "metadata": {
        "id": "Mi64VGJEnetv"
      },
      "source": [
        "## noisy 이미지 최대값 설정하기"
      ]
    },
    {
      "cell_type": "code",
      "metadata": {
        "id": "1RORIyKwnhCo",
        "outputId": "758450c5-cf35-4d3b-c069-6d7d02929f77",
        "colab": {
          "base_uri": "https://localhost:8080/",
          "height": 269
        }
      },
      "source": [
        "noisy_image[noisy_image > 1.0] = 1.0\n",
        "# noisy_image\n",
        "plt.imshow(noisy_image)\n",
        "plt.colorbar()\n",
        "plt.show()"
      ],
      "execution_count": 31,
      "outputs": [
        {
          "output_type": "display_data",
          "data": {
            "image/png": "[encoded data removed]",
            "text/plain": [
              "<Figure size 432x288 with 2 Axes>"
            ]
          },
          "metadata": {
            "needs_background": "light"
          }
        }
      ]
    },
    {
      "cell_type": "markdown",
      "metadata": {
        "id": "t9caOHkRn22Q"
      },
      "source": [
        "## train_noisy_images, test_noisy_images 만들기"
      ]
    },
    {
      "cell_type": "code",
      "metadata": {
        "id": "GAxop5yOn9fy"
      },
      "source": [
        "train_noisy_images = train_images + np.random.normal(0.5, 0.1, train_images.shape)\n",
        "train_noisy_images[train_noisy_images > 1.0] = 1.0\n",
        "\n",
        "test_noisy_images = test_images + np.random.normal(0.5, 0.1, test_images.shape)\n",
        "test_noisy_images[test_noisy_images > 1.0] = 1.0"
      ],
      "execution_count": 38,
      "outputs": []
    },
    {
      "cell_type": "markdown",
      "metadata": {
        "id": "pHSNMQtppWC-"
      },
      "source": [
        "## lables에 onehot 인코딩을 적용하여 (배치 사이즈, 클래스 개수)의 shape으로 변경"
      ]
    },
    {
      "cell_type": "code",
      "metadata": {
        "id": "jlyZwksbpc1-",
        "outputId": "387ab0d7-8c84-4191-b910-571b975da4f0",
        "colab": {
          "base_uri": "https://localhost:8080/"
        }
      },
      "source": [
        "from tensorflow.keras.utils import to_categorical\n",
        "train_labels = to_categorical(train_labels, 10)\n",
        "test_labels = to_categorical(test_labels, 10)\n",
        "print(train_labels.shape, test_labels.shape)"
      ],
      "execution_count": 52,
      "outputs": [
        {
          "output_type": "stream",
          "text": [
            "(60000, 10) (10000, 10)\n"
          ],
          "name": "stdout"
        }
      ]
    },
    {
      "cell_type": "markdown",
      "metadata": {
        "id": "x0ZDWCwYp9R1"
      },
      "source": [
        "### * 구글드라이브에서 파일 불러오기"
      ]
    },
    {
      "cell_type": "code",
      "metadata": {
        "id": "Pv_saOybrXbA",
        "outputId": "f6f1e645-a03d-4a13-cb16-33f24beecd80",
        "colab": {
          "base_uri": "https://localhost:8080/"
        }
      },
      "source": [
        "from google.colab import drive\n",
        "drive.mount('/content/drive')\n",
        "\n",
        "# 링크 눌러서 코드 복붙"
      ],
      "execution_count": 42,
      "outputs": [
        {
          "output_type": "stream",
          "text": [
            "Mounted at /content/drive\n"
          ],
          "name": "stdout"
        }
      ]
    }
  ]
}