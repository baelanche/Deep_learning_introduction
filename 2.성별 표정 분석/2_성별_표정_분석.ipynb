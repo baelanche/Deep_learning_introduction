{
  "nbformat": 4,
  "nbformat_minor": 0,
  "metadata": {
    "colab": {
      "name": "2.성별 표정 분석.ipynb",
      "private_outputs": true,
      "provenance": [],
      "authorship_tag": "ABX9TyMYafskoE8lagxQs0ju8r5P",
      "include_colab_link": true
    },
    "kernelspec": {
      "name": "python3",
      "display_name": "Python 3"
    },
    "language_info": {
      "name": "python"
    }
  },
  "cells": [
    {
      "cell_type": "markdown",
      "metadata": {
        "id": "view-in-github",
        "colab_type": "text"
      },
      "source": [
        "<a href=\"https://colab.research.google.com/github/baelanche/Deep_learning_introduction/blob/master/2.%EC%84%B1%EB%B3%84%20%ED%91%9C%EC%A0%95%20%EB%B6%84%EC%84%9D/2_%EC%84%B1%EB%B3%84_%ED%91%9C%EC%A0%95_%EB%B6%84%EC%84%9D.ipynb\" target=\"_parent\"><img src=\"https://colab.research.google.com/assets/colab-badge.svg\" alt=\"Open In Colab\"/></a>"
      ]
    },
    {
      "cell_type": "code",
      "metadata": {
        "id": "oqOxnMQK2NZI"
      },
      "source": [
        ""
      ],
      "execution_count": null,
      "outputs": []
    }
  ]
}